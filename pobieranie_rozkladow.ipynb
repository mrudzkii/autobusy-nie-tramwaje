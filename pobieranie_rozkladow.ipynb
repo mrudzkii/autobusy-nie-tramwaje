{
 "cells": [
  {
   "cell_type": "code",
   "execution_count": null,
   "outputs": [],
   "source": [
    "import autobusy.downloading.download_timetables as dwnld\n",
    "import pickle\n",
    "\n",
    "data = dwnld.download_all()\n",
    "with open(\"lines-where-when-full.pkl\", 'rb') as plik:\n",
    "        pickle.dump(plik, data)\n",
    "        "
   ],
   "metadata": {
    "collapsed": false
   },
   "id": "4ff9badda848e7b"
  }
 ],
 "metadata": {
  "kernelspec": {
   "display_name": "Python 3",
   "language": "python",
   "name": "python3"
  },
  "language_info": {
   "codemirror_mode": {
    "name": "ipython",
    "version": 2
   },
   "file_extension": ".py",
   "mimetype": "text/x-python",
   "name": "python",
   "nbconvert_exporter": "python",
   "pygments_lexer": "ipython2",
   "version": "2.7.6"
  }
 },
 "nbformat": 4,
 "nbformat_minor": 5
}
